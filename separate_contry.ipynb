{
 "cells": [
  {
   "cell_type": "markdown",
   "id": "68fcf870",
   "metadata": {},
   "source": [
    "### 국가별로 EXCEL 제작하기"
   ]
  },
  {
   "cell_type": "code",
   "execution_count": 13,
   "id": "0b7d792c",
   "metadata": {},
   "outputs": [],
   "source": [
    "import pandas as pd\n",
    "import numpy as np\n",
    "import os"
   ]
  },
  {
   "cell_type": "code",
   "execution_count": 2,
   "id": "c3e4fe5f",
   "metadata": {},
   "outputs": [
    {
     "data": {
      "text/plain": [
       "pandas.core.frame.DataFrame"
      ]
     },
     "execution_count": 2,
     "metadata": {},
     "output_type": "execute_result"
    }
   ],
   "source": [
    "df = pd.read_csv(\"C:/HANSSAK/SecureGate/Download/migrant-stock-total - 2024 (UN DESA).csv\")\n",
    "type(df)"
   ]
  },
  {
   "cell_type": "code",
   "execution_count": 3,
   "id": "b140067a",
   "metadata": {},
   "outputs": [
    {
     "data": {
      "application/vnd.microsoft.datawrangler.viewer.v0+json": {
       "columns": [
        {
         "name": "연번",
         "rawType": "int64",
         "type": "integer"
        },
        {
         "name": "국가코드",
         "rawType": "int64",
         "type": "integer"
        },
        {
         "name": "국가명(영문, ICRM 기준)",
         "rawType": "object",
         "type": "string"
        },
        {
         "name": "국가명(한글)",
         "rawType": "object",
         "type": "string"
        },
        {
         "name": "이민청 조직 ",
         "rawType": "object",
         "type": "string"
        },
        {
         "name": "이민청 조직 홈페이지",
         "rawType": "object",
         "type": "string"
        },
        {
         "name": "상위부처 (Ministry 등)",
         "rawType": "object",
         "type": "string"
        },
        {
         "name": "구분",
         "rawType": "object",
         "type": "string"
        },
        {
         "name": "상위부처 홈페이지",
         "rawType": "object",
         "type": "string"
        }
       ],
       "conversionMethod": "pd.DataFrame",
       "ref": "65d2e93b-2320-4d1d-a59e-98f7fd5b06b0",
       "rows": [
        [
         "1",
         "105",
         "BANGLADESH",
         "방글라데시",
         "Department of Immigration & Passports ",
         "https://www.dip.gov.bd",
         "Ministry of Home Affairs ",
         "내무부",
         "https://www.mha.gov.bd"
        ],
        [
         "2",
         "108",
         "MYANMAR",
         "미얀마",
         "Department of Immigration ",
         "https://www.mip.gov.mm",
         "Ministry of Immigration and Population ",
         "이민인구부",
         "https://www.mip.gov.mm"
        ],
        [
         "3",
         "110",
         "CAMBODIA",
         "캄보디아",
         "General Department of Immigration ",
         "https://www.immigration.gov.kh",
         "Ministry of Interior ",
         "내무부",
         "https://www.interior.gov.kh"
        ],
        [
         "4",
         "111",
         "SRI LANKA",
         "스리랑카",
         "Department of Immigration & Emigration ",
         "https://www.immigration.gov.lk",
         "Ministry of Public Security ",
         "공안부",
         "https://www.pubsec.gov.lk"
        ],
        [
         "5",
         "112",
         "CHINA P. R.",
         "중국",
         "National Immigration Administration ",
         "https://en.nia.gov.cn",
         "Ministry of Public Security ",
         "공안부",
         "https://www.mps.gov.cn"
        ],
        [
         "6",
         "113",
         "CHINA(TAIWAN)",
         "대만",
         "National Immigration Agency ",
         "https://www.immigration.gov.tw/7120",
         "Ministry of Interior",
         "내무부",
         "https://www.moi.gov.tw/english"
        ],
        [
         "7",
         "120",
         "CHINA P. R.(HONG KONG)",
         "홍콩",
         "Immigration Department ",
         "https://www.immd.gov.hk/eng/index.html",
         "Security Bureau ",
         "공안부",
         "https://www.sb.gov.hk/eng/about/welcome.html"
        ],
        [
         "8",
         "124",
         "INDIA",
         "인도",
         "Bureau of Immigration India ",
         "https://boi.gov.in/boi/",
         "Ministry of Home Affairs ",
         "내무부",
         "https://www.mha.gov.in/en"
        ],
        [
         "9",
         "125",
         "INDONESIA",
         "인도네시아",
         "Directorate General of Immigration ",
         "https://www.imigrasi.go.id/index?lang=en-US",
         "Ministry of Law and Human Rights ",
         "법무부",
         "https://www.kemenkumham.go.id"
        ],
        [
         "10",
         "128",
         "ISRAEL",
         "이스라엘",
         "Population and Immigration Authority ",
         "https://www.gov.il/he/departments/population_and_immigration_authority/govil-landing-page",
         "Ministry of Interior",
         "내무부",
         "https://www.gov.il/en/departments/ministry_of_interior/govil-landing-page"
        ],
        [
         "11",
         "130",
         "JAPAN",
         "일본",
         "Immigration Service Agency ",
         "https://www.moj.go.jp/isa/other_languages.html",
         "Ministry of Justice",
         "법무부",
         "https://www.moj.go.jp/ENGLISH"
        ],
        [
         "12",
         "133",
         "KAZAKHSTAN",
         "카자흐스탄",
         "Committee of Migration Service ",
         "https://www.gov.kz/memleket/entities/migration?lang=en",
         "Ministry of Internal Affairs ",
         "내무부",
         "https://www.gov.kz/memleket/entities/qriim?lang=en"
        ],
        [
         "13",
         "134",
         "KYRGYZ REPUBLIC",
         "키르기즈",
         "State Migration Service ",
         "https://mlsp.gov.kg/genderdik-sayasat-2/",
         "Minister of Labour, Social Security and Migration ",
         "노동안전이민부",
         "https://mlsp.gov.kg"
        ],
        [
         "14",
         "135",
         "KUWAIT",
         "쿠웨이트",
         "\t\t\t\t\t\tGeneral Department of Residency ",
         "https://www.moi.gov.kw/main/eservices/residence?culture=en",
         "Ministry of Interior",
         "내무부",
         "https://www.moi.gov.kw/main/"
        ],
        [
         "15",
         "143",
         "MALAYSIA",
         "말레이시아",
         "Jabatan Imigresen Malaysia ",
         "https://www.imi.gov.my/index.php/en/home/",
         "Ministry of Home Affairs ",
         "내무부",
         "https://www.moha.gov.my/index.php/en"
        ],
        [
         "16",
         "145",
         "MONGOLIA",
         "몽골",
         "Mongolian Immigration Agency ",
         "https://immigration.gov.mn/en/",
         "Ministry of Justice and Internal Affairs ",
         "법무부",
         "https://www.gov.mn/en/organization/mojha"
        ],
        [
         "17",
         "148",
         "NEPAL",
         "네팔",
         "Department of Immigration ",
         "https://www.immigration.gov.np/en",
         "Ministry of Home Affairs ",
         "내무부",
         "https://moha.gov.np/en"
        ],
        [
         "18",
         "150",
         "OMAN",
         "오만",
         "\t\t\t\t\tDirectorate General of Passports and Civil Status ",
         "https://www.rop.gov.om/english/Index.aspx",
         "Royal Oman Police",
         "경찰청",
         "https://www.rop.gov.om/english/Index.aspx"
        ],
        [
         "19",
         "153",
         "PAKISTAN",
         "파키스탄",
         "Directorate General of Immigration & Passports ",
         "https://www.dgip.gov.pk/home/",
         "Ministry of Interior ",
         "내무부",
         "https://www.interior.gov.pk"
        ],
        [
         "20",
         "155",
         "PHILIPPINES",
         "필리핀",
         "Bureau of Immigration ",
         "https://immigration.gov.ph/",
         "Department of Justice ",
         "법무부",
         "https://www.doj.gov.ph"
        ],
        [
         "21",
         "156",
         "EAST-TIMOR",
         "동티모르",
         "Immigration Service of Timor-Leste ",
         "https://www.migracao.gov.tl/index.php",
         "Ministry of Interior ",
         "내무부",
         "http://www.minterior.gov.tl"
        ],
        [
         "22",
         "159",
         "QATAR",
         "카타르",
         "\t\t\t\t\t\t\tGeneral Directorate of Passports ",
         "https://portal.moi.gov.qa/wps/portal/MOIInternet/departmentcommittees/ganationalborderexpatriateaffairs\t\t\t\t",
         "Ministry of Interior",
         "내무부",
         "https://portal.moi.gov.qa/"
        ],
        [
         "23",
         "162",
         "SAUDI ARAVIA",
         "사우디아라비아",
         "\t\t\t\t\t\t\tGeneral Directorate of Passports ",
         "https://www.moi.gov.sa/",
         "Ministry of Interior",
         "내무부",
         "https://www.moi.gov.sa/"
        ],
        [
         "24",
         "164",
         "SINGAPORE",
         "싱가포르",
         "Immigration & Checkpoints Authority ",
         "https://www.ica.gov.sg/",
         "Ministry of Home Affairs ",
         "내무부",
         "https://www.mha.gov.sg"
        ],
        [
         "25",
         "170",
         "THAILAND",
         "태국",
         "Immigration Bureau ",
         "https://www.immigration.go.th/",
         "Royal Thai Police ",
         "경찰청",
         "https://www.royalthaipolice.go.th"
        ],
        [
         "26",
         "171",
         "TURKEY",
         "튀르키예",
         "Presidency of Migration Management ",
         "https://en.goc.gov.tr/",
         "Ministry of Interior",
         "내무부",
         "https://www.icisleri.gov.tr"
        ],
        [
         "27",
         "180",
         "U.A.E",
         "아랍에미리트연합",
         "\t\t\t\t\t\t\tFederal Authority for Identity, Citizenship, Customs & Port Security ",
         "https://icp.gov.ae/en/",
         "Ministry of Interior ",
         "내무부",
         "https://moi.gov.ae/en/​"
        ],
        [
         "28",
         "181",
         "UZBEKISTAN",
         "우즈베키스탄",
         "Main Directorate for Migration and Citizenship Registration ",
         "https://gov.uz/en/migration/general-menu/3909",
         "Ministry of Internal Affairs ",
         "내무부",
         "https://gov.uz/en/iiv/pages/about"
        ],
        [
         "29",
         "185",
         "VIETNAM",
         "베트남",
         "Vietnam Immigration Department ",
         "https://immigration.gov.vn/",
         "Ministry of Public Security ",
         "공안부",
         "https://en.bocongan.gov.vn"
        ],
        [
         "30",
         "202",
         "ARGENTINA",
         "아르헨티나",
         "\t\t\t\t\tNational Directorate for Migration ",
         "https://www.argentina.gob.ar/interior/migraciones",
         "Secretariat of the Interior",
         "내무부",
         "https://www.argentina.gob.ar/interior"
        ],
        [
         "31",
         "209",
         "BRAZIL",
         "브라질",
         "\t\t\t\tDepartamento de Migrações ",
         "https://portaldeimigracao.mj.gov.br/pt/",
         "Ministério da Justiça e Segurança Pública",
         "법무부",
         "https://www.gov.br/mj/pt-br"
        ],
        [
         "32",
         "213",
         "CANADA",
         "캐나다",
         "Department of Immigration, Refugee and Citizenship ",
         "https://www.canada.ca/en/immigration-refugees-citizenship.html",
         "Department of Immigration, Refugee and Citizenship ",
         "이민난민국적부",
         "https://www.canada.ca/en/immigration-refugees-citizenship.html"
        ],
        [
         "33",
         "214",
         "CHILE",
         "칠레",
         "National Migration Service ",
         "https://serviciomigraciones.cl/",
         "Ministry of the Interior and Public Security ",
         "내무부",
         "https://www.interior.gob.cl"
        ],
        [
         "34",
         "215",
         "COLOMBIA",
         "콜롬비아",
         "Migración Colombia ",
         "https://www.migracioncolombia.gov.co/",
         "Ministry of Foreign Affairs ",
         "외교부",
         "https://www.cancilleria.gov.co/en/ministro"
        ],
        [
         "35",
         "216",
         "COSTA RICA",
         "코스타리카",
         "The General Directorate of Migration and Aliens ",
         "https://migracion.go.cr/",
         "Ministry of Interior and Police ",
         "내무부",
         "https://www.mjp.go.cr"
        ],
        [
         "36",
         "248",
         "MEXICO",
         "멕시코",
         "The National Institute of Migration ",
         "https://www.gob.mx/inm",
         "Secretariat of the Interior ",
         "내무부",
         "http://portales.segob.gob.mx/es/PoliticaMigratoria/home"
        ],
        [
         "37",
         "256",
         "PARAGUAY",
         "파라과이",
         "\t\t\t\t\tNational Directorate of Migration ",
         "https://migraciones.gov.py/",
         "Ministerio de Seguridad Pública",
         "내무부",
         "https://www.minseg.gob.pa/"
        ],
        [
         "38",
         "257",
         "PERU",
         "페루",
         "Superintendencia Nacional de Migraciones ",
         "https://www.gob.pe/institucion/migraciones/institucional",
         "Ministerio del Interior",
         "내무부",
         "https://www.gob.pe/institucion/mininter/institucional"
        ],
        [
         "39",
         "274",
         "URUGUAY",
         "우루과이",
         "\t\t\t\t\tDirección Nacional de Migración ",
         "https://www.gub.uy/ministerio-interior/direccion-nacional-migracion",
         "Ministerio del Interior",
         "내무부",
         "https://www.gub.uy/ministerio-interior/"
        ],
        [
         "40",
         "275",
         "UNITED STATES",
         "미국",
         "U.S. Citizenship and Immigration Service",
         "https://www.uscis.gov",
         "U.S Department of Homeland Security  ",
         "국토안보부",
         "https://www.dhs.gov"
        ],
        [
         "41",
         "303",
         "AUSTRIA",
         "오스트리아",
         "Federal Office for Immigration and Asylum ",
         "https://www.migration.gv.at/",
         "Ministry of the Interior ",
         "내무부",
         "https://www.bmi.gv.at"
        ],
        [
         "42",
         "306",
         "BELGIUM",
         "벨기에",
         "Belgian Immigration Office ",
         "https://dofi.ibz.be/en",
         "Home Affairs ",
         "내무부",
         "https://www.ibz.be/en"
        ],
        [
         "43",
         "310",
         "CZECH",
         "체코",
         "Department for Asylum and Migration Policy ",
         "https://mv.gov.cz/mvcren/article/immigration.aspx​",
         "Ministry of the Interior ",
         "내무부",
         "https://ipc.gov.cz/en"
        ],
        [
         "44",
         "312",
         "ESTONIA",
         "에스토니아",
         "Police and Border Guard Board ",
         "https://www.politsei.ee/",
         "Ministry of the Interior ",
         "내무부",
         "https://www.siseministeerium.ee/en"
        ],
        [
         "45",
         "313",
         "DENMARK",
         "덴마크",
         "Danish Immigration Service",
         "https://www.nyidanmark.dk",
         "Minister for Immigration and Integration ",
         "이민통합부",
         "https://uim.dk/ministeren"
        ],
        [
         "46",
         "316",
         "UNITED KINGDOM",
         "영국",
         "UK Visas and Immigration ",
         "https://www.gov.uk/browse/visas-immigration",
         "Home Office ",
         "내무부",
         "https://www.gov.uk/government/organisations/home-office"
        ],
        [
         "47",
         "320",
         "FINLAND",
         "핀란드",
         "Finnish Immigration Service ",
         "https://migri.fi/en/home",
         "Ministry of the Interior ",
         "내무부",
         "https://intermin.fi/en/frontpage"
        ],
        [
         "48",
         "321",
         "FRANCE",
         "프랑스",
         "Direction Générale des Étrangers en France ",
         "https://www.immigration.interieur.gouv.fr/",
         "Ministry of the Interior ",
         "내무부",
         "https://www.interieur.gouv.fr"
        ],
        [
         "49",
         "324",
         "GERMANY F.R",
         "독일",
         "Federal Office for Migration and Refugees ",
         "https://www.bamf.de/EN/Startseite/startseite_node.html",
         "Federal Ministry of Interior and Community ",
         "내무부",
         "https://www.bmi.bund.de/EN"
        ],
        [
         "50",
         "326",
         "GREECE",
         "그리스",
         "Secretariat-General for Migration Policy",
         "https://migration.gov.gr/en",
         "Ministry of Migration and Asylum ",
         "이민난민부",
         "https://migration.gov.gr/en"
        ]
       ],
       "shape": {
        "columns": 8,
        "rows": 78
       }
      },
      "text/html": [
       "<div>\n",
       "<style scoped>\n",
       "    .dataframe tbody tr th:only-of-type {\n",
       "        vertical-align: middle;\n",
       "    }\n",
       "\n",
       "    .dataframe tbody tr th {\n",
       "        vertical-align: top;\n",
       "    }\n",
       "\n",
       "    .dataframe thead th {\n",
       "        text-align: right;\n",
       "    }\n",
       "</style>\n",
       "<table border=\"1\" class=\"dataframe\">\n",
       "  <thead>\n",
       "    <tr style=\"text-align: right;\">\n",
       "      <th></th>\n",
       "      <th>국가코드</th>\n",
       "      <th>국가명(영문, ICRM 기준)</th>\n",
       "      <th>국가명(한글)</th>\n",
       "      <th>이민청 조직</th>\n",
       "      <th>이민청 조직 홈페이지</th>\n",
       "      <th>상위부처 (Ministry 등)</th>\n",
       "      <th>구분</th>\n",
       "      <th>상위부처 홈페이지</th>\n",
       "    </tr>\n",
       "    <tr>\n",
       "      <th>연번</th>\n",
       "      <th></th>\n",
       "      <th></th>\n",
       "      <th></th>\n",
       "      <th></th>\n",
       "      <th></th>\n",
       "      <th></th>\n",
       "      <th></th>\n",
       "      <th></th>\n",
       "    </tr>\n",
       "  </thead>\n",
       "  <tbody>\n",
       "    <tr>\n",
       "      <th>1</th>\n",
       "      <td>105</td>\n",
       "      <td>BANGLADESH</td>\n",
       "      <td>방글라데시</td>\n",
       "      <td>Department of Immigration &amp; Passports</td>\n",
       "      <td>https://www.dip.gov.bd</td>\n",
       "      <td>Ministry of Home Affairs</td>\n",
       "      <td>내무부</td>\n",
       "      <td>https://www.mha.gov.bd</td>\n",
       "    </tr>\n",
       "    <tr>\n",
       "      <th>2</th>\n",
       "      <td>108</td>\n",
       "      <td>MYANMAR</td>\n",
       "      <td>미얀마</td>\n",
       "      <td>Department of Immigration</td>\n",
       "      <td>https://www.mip.gov.mm</td>\n",
       "      <td>Ministry of Immigration and Population</td>\n",
       "      <td>이민인구부</td>\n",
       "      <td>https://www.mip.gov.mm</td>\n",
       "    </tr>\n",
       "    <tr>\n",
       "      <th>3</th>\n",
       "      <td>110</td>\n",
       "      <td>CAMBODIA</td>\n",
       "      <td>캄보디아</td>\n",
       "      <td>General Department of Immigration</td>\n",
       "      <td>https://www.immigration.gov.kh</td>\n",
       "      <td>Ministry of Interior</td>\n",
       "      <td>내무부</td>\n",
       "      <td>https://www.interior.gov.kh</td>\n",
       "    </tr>\n",
       "    <tr>\n",
       "      <th>4</th>\n",
       "      <td>111</td>\n",
       "      <td>SRI LANKA</td>\n",
       "      <td>스리랑카</td>\n",
       "      <td>Department of Immigration &amp; Emigration</td>\n",
       "      <td>https://www.immigration.gov.lk</td>\n",
       "      <td>Ministry of Public Security</td>\n",
       "      <td>공안부</td>\n",
       "      <td>https://www.pubsec.gov.lk</td>\n",
       "    </tr>\n",
       "    <tr>\n",
       "      <th>5</th>\n",
       "      <td>112</td>\n",
       "      <td>CHINA P. R.</td>\n",
       "      <td>중국</td>\n",
       "      <td>National Immigration Administration</td>\n",
       "      <td>https://en.nia.gov.cn</td>\n",
       "      <td>Ministry of Public Security</td>\n",
       "      <td>공안부</td>\n",
       "      <td>https://www.mps.gov.cn</td>\n",
       "    </tr>\n",
       "    <tr>\n",
       "      <th>...</th>\n",
       "      <td>...</td>\n",
       "      <td>...</td>\n",
       "      <td>...</td>\n",
       "      <td>...</td>\n",
       "      <td>...</td>\n",
       "      <td>...</td>\n",
       "      <td>...</td>\n",
       "      <td>...</td>\n",
       "    </tr>\n",
       "    <tr>\n",
       "      <th>74</th>\n",
       "      <td>543</td>\n",
       "      <td>LIBERIA</td>\n",
       "      <td>라이베리아</td>\n",
       "      <td>\\t\\t\\t\\t\\t\\t\\t\\tLiberia Immigration Service</td>\n",
       "      <td>https://lis.gov.lr/</td>\n",
       "      <td>Ministry of Justice</td>\n",
       "      <td>법무부</td>\n",
       "      <td>https://moj.gov.lr/</td>\n",
       "    </tr>\n",
       "    <tr>\n",
       "      <th>75</th>\n",
       "      <td>562</td>\n",
       "      <td>NIGERIA</td>\n",
       "      <td>나이지리아</td>\n",
       "      <td>Nigeria Immigration Service</td>\n",
       "      <td>https://portal.immigration.gov.ng/</td>\n",
       "      <td>Federal Ministry of Interior</td>\n",
       "      <td>내무부</td>\n",
       "      <td>https://interior.gov.ng</td>\n",
       "    </tr>\n",
       "    <tr>\n",
       "      <th>76</th>\n",
       "      <td>576</td>\n",
       "      <td>SOUTH AFRICA</td>\n",
       "      <td>남아프리카 공화국</td>\n",
       "      <td>\\t\\t\\t\\t\\t\\tSouth Africa Immigration Service</td>\n",
       "      <td>https://www.dha.gov.za/index.php/immigration-s...</td>\n",
       "      <td>Department of Home Affairs</td>\n",
       "      <td>내무부</td>\n",
       "      <td>https://www.dha.gov.za/</td>\n",
       "    </tr>\n",
       "    <tr>\n",
       "      <th>77</th>\n",
       "      <td>583</td>\n",
       "      <td>TANZANIA</td>\n",
       "      <td>탄자니아</td>\n",
       "      <td>\\t\\t\\t\\t\\t\\tTanzania Immigration Services Depa...</td>\n",
       "      <td>https://www.immigration.go.tz/</td>\n",
       "      <td>Ministry of Home Affairs</td>\n",
       "      <td>내무부</td>\n",
       "      <td>https://www.moha.go.tz/home</td>\n",
       "    </tr>\n",
       "    <tr>\n",
       "      <th>78</th>\n",
       "      <td>588</td>\n",
       "      <td>UGANDA</td>\n",
       "      <td>우간다</td>\n",
       "      <td>\\t\\t\\t\\t\\t\\t\\tDirectorate of Citizenship and I...</td>\n",
       "      <td>https://www.immigration.go.ug/</td>\n",
       "      <td>Ministry of Internal Affairs</td>\n",
       "      <td>내무부</td>\n",
       "      <td>https://mia.go.ug/</td>\n",
       "    </tr>\n",
       "  </tbody>\n",
       "</table>\n",
       "<p>78 rows × 8 columns</p>\n",
       "</div>"
      ],
      "text/plain": [
       "    국가코드 국가명(영문, ICRM 기준)    국가명(한글)  \\\n",
       "연번                                     \n",
       "1    105       BANGLADESH      방글라데시   \n",
       "2    108          MYANMAR        미얀마   \n",
       "3    110         CAMBODIA       캄보디아   \n",
       "4    111        SRI LANKA       스리랑카   \n",
       "5    112      CHINA P. R.         중국   \n",
       "..   ...              ...        ...   \n",
       "74   543          LIBERIA      라이베리아   \n",
       "75   562          NIGERIA      나이지리아   \n",
       "76   576     SOUTH AFRICA  남아프리카 공화국   \n",
       "77   583         TANZANIA       탄자니아   \n",
       "78   588           UGANDA        우간다   \n",
       "\n",
       "                                              이민청 조직   \\\n",
       "연번                                                      \n",
       "1              Department of Immigration & Passports    \n",
       "2                          Department of Immigration    \n",
       "3                  General Department of Immigration    \n",
       "4             Department of Immigration & Emigration    \n",
       "5                National Immigration Administration    \n",
       "..                                                ...   \n",
       "74       \\t\\t\\t\\t\\t\\t\\t\\tLiberia Immigration Service    \n",
       "75                        Nigeria Immigration Service   \n",
       "76      \\t\\t\\t\\t\\t\\tSouth Africa Immigration Service    \n",
       "77  \\t\\t\\t\\t\\t\\tTanzania Immigration Services Depa...   \n",
       "78  \\t\\t\\t\\t\\t\\t\\tDirectorate of Citizenship and I...   \n",
       "\n",
       "                                          이민청 조직 홈페이지  \\\n",
       "연번                                                      \n",
       "1                              https://www.dip.gov.bd   \n",
       "2                              https://www.mip.gov.mm   \n",
       "3                      https://www.immigration.gov.kh   \n",
       "4                      https://www.immigration.gov.lk   \n",
       "5                               https://en.nia.gov.cn   \n",
       "..                                                ...   \n",
       "74                                https://lis.gov.lr/   \n",
       "75                 https://portal.immigration.gov.ng/   \n",
       "76  https://www.dha.gov.za/index.php/immigration-s...   \n",
       "77                     https://www.immigration.go.tz/   \n",
       "78                     https://www.immigration.go.ug/   \n",
       "\n",
       "                          상위부처 (Ministry 등)     구분  \\\n",
       "연번                                                   \n",
       "1                 Ministry of Home Affairs     내무부   \n",
       "2   Ministry of Immigration and Population   이민인구부   \n",
       "3                     Ministry of Interior     내무부   \n",
       "4              Ministry of Public Security     공안부   \n",
       "5              Ministry of Public Security     공안부   \n",
       "..                                      ...    ...   \n",
       "74                      Ministry of Justice    법무부   \n",
       "75            Federal Ministry of Interior     내무부   \n",
       "76              Department of Home Affairs     내무부   \n",
       "77                 Ministry of Home Affairs    내무부   \n",
       "78             Ministry of Internal Affairs    내무부   \n",
       "\n",
       "                      상위부처 홈페이지  \n",
       "연번                               \n",
       "1        https://www.mha.gov.bd  \n",
       "2        https://www.mip.gov.mm  \n",
       "3   https://www.interior.gov.kh  \n",
       "4     https://www.pubsec.gov.lk  \n",
       "5        https://www.mps.gov.cn  \n",
       "..                          ...  \n",
       "74          https://moj.gov.lr/  \n",
       "75      https://interior.gov.ng  \n",
       "76      https://www.dha.gov.za/  \n",
       "77  https://www.moha.go.tz/home  \n",
       "78           https://mia.go.ug/  \n",
       "\n",
       "[78 rows x 8 columns]"
      ]
     },
     "execution_count": 3,
     "metadata": {},
     "output_type": "execute_result"
    }
   ],
   "source": [
    "country_list = pd.read_excel(\"C:/HANSSAK/SecureGate/Download/250425 주요국가별 이민청, 상위부처, 홈페이지 목록정리1.xlsx\", index_col=0)\n",
    "country_list"
   ]
  },
  {
   "cell_type": "code",
   "execution_count": 4,
   "id": "08ca960d",
   "metadata": {},
   "outputs": [
    {
     "data": {
      "application/vnd.microsoft.datawrangler.viewer.v0+json": {
       "columns": [
        {
         "name": "index",
         "rawType": "int64",
         "type": "integer"
        },
        {
         "name": "Entity",
         "rawType": "object",
         "type": "string"
        },
        {
         "name": "Code",
         "rawType": "object",
         "type": "unknown"
        },
        {
         "name": "Year",
         "rawType": "int64",
         "type": "integer"
        },
        {
         "name": "Total number of international immigrants",
         "rawType": "int64",
         "type": "integer"
        }
       ],
       "conversionMethod": "pd.DataFrame",
       "ref": "633c8d4a-c115-4f25-9d35-92b4fc12f4fc",
       "rows": [
        [
         "0",
         "Afghanistan",
         "AFG",
         "1990",
         "57686"
        ],
        [
         "1",
         "Afghanistan",
         "AFG",
         "1995",
         "71522"
        ],
        [
         "2",
         "Afghanistan",
         "AFG",
         "2000",
         "75917"
        ],
        [
         "3",
         "Afghanistan",
         "AFG",
         "2005",
         "87314"
        ],
        [
         "4",
         "Afghanistan",
         "AFG",
         "2010",
         "102276"
        ],
        [
         "5",
         "Afghanistan",
         "AFG",
         "2015",
         "339432"
        ],
        [
         "6",
         "Afghanistan",
         "AFG",
         "2020",
         "144098"
        ],
        [
         "7",
         "Afghanistan",
         "AFG",
         "2024",
         "98110"
        ],
        [
         "8",
         "Africa",
         null,
         "1990",
         "16176915"
        ],
        [
         "9",
         "Africa",
         null,
         "1995",
         "16653698"
        ],
        [
         "10",
         "Africa",
         null,
         "2000",
         "15413140"
        ],
        [
         "11",
         "Africa",
         null,
         "2005",
         "16602802"
        ],
        [
         "12",
         "Africa",
         null,
         "2010",
         "17752216"
        ],
        [
         "13",
         "Africa",
         null,
         "2015",
         "22683929"
        ],
        [
         "14",
         "Africa",
         null,
         "2020",
         "25267356"
        ],
        [
         "15",
         "Africa",
         null,
         "2024",
         "29180440"
        ],
        [
         "16",
         "Albania",
         "ALB",
         "1990",
         "66013"
        ],
        [
         "17",
         "Albania",
         "ALB",
         "1995",
         "71354"
        ],
        [
         "18",
         "Albania",
         "ALB",
         "2000",
         "76695"
        ],
        [
         "19",
         "Albania",
         "ALB",
         "2005",
         "64739"
        ],
        [
         "20",
         "Albania",
         "ALB",
         "2010",
         "52784"
        ],
        [
         "21",
         "Albania",
         "ALB",
         "2015",
         "52031"
        ],
        [
         "22",
         "Albania",
         "ALB",
         "2020",
         "48810"
        ],
        [
         "23",
         "Albania",
         "ALB",
         "2024",
         "46377"
        ],
        [
         "24",
         "Algeria",
         "DZA",
         "1990",
         "273954"
        ],
        [
         "25",
         "Algeria",
         "DZA",
         "1995",
         "262032"
        ],
        [
         "26",
         "Algeria",
         "DZA",
         "2000",
         "250110"
        ],
        [
         "27",
         "Algeria",
         "DZA",
         "2005",
         "197728"
        ],
        [
         "28",
         "Algeria",
         "DZA",
         "2010",
         "217268"
        ],
        [
         "29",
         "Algeria",
         "DZA",
         "2015",
         "239473"
        ],
        [
         "30",
         "Algeria",
         "DZA",
         "2020",
         "250378"
        ],
        [
         "31",
         "Algeria",
         "DZA",
         "2024",
         "259458"
        ],
        [
         "32",
         "American Samoa",
         "ASM",
         "1990",
         "21283"
        ],
        [
         "33",
         "American Samoa",
         "ASM",
         "1995",
         "23098"
        ],
        [
         "34",
         "American Samoa",
         "ASM",
         "2000",
         "24912"
        ],
        [
         "35",
         "American Samoa",
         "ASM",
         "2005",
         "24233"
        ],
        [
         "36",
         "American Samoa",
         "ASM",
         "2010",
         "23555"
        ],
        [
         "37",
         "American Samoa",
         "ASM",
         "2015",
         "23513"
        ],
        [
         "38",
         "American Samoa",
         "ASM",
         "2020",
         "23608"
        ],
        [
         "39",
         "American Samoa",
         "ASM",
         "2024",
         "23684"
        ],
        [
         "40",
         "Andorra",
         "AND",
         "1990",
         "38891"
        ],
        [
         "41",
         "Andorra",
         "AND",
         "1995",
         "44206"
        ],
        [
         "42",
         "Andorra",
         "AND",
         "2000",
         "42147"
        ],
        [
         "43",
         "Andorra",
         "AND",
         "2005",
         "50298"
        ],
        [
         "44",
         "Andorra",
         "AND",
         "2010",
         "52053"
        ],
        [
         "45",
         "Andorra",
         "AND",
         "2015",
         "42264"
        ],
        [
         "46",
         "Andorra",
         "AND",
         "2020",
         "45574"
        ],
        [
         "47",
         "Andorra",
         "AND",
         "2024",
         "48408"
        ],
        [
         "48",
         "Angola",
         "AGO",
         "1990",
         "33517"
        ],
        [
         "49",
         "Angola",
         "AGO",
         "1995",
         "39813"
        ]
       ],
       "shape": {
        "columns": 4,
        "rows": 2176
       }
      },
      "text/html": [
       "<div>\n",
       "<style scoped>\n",
       "    .dataframe tbody tr th:only-of-type {\n",
       "        vertical-align: middle;\n",
       "    }\n",
       "\n",
       "    .dataframe tbody tr th {\n",
       "        vertical-align: top;\n",
       "    }\n",
       "\n",
       "    .dataframe thead th {\n",
       "        text-align: right;\n",
       "    }\n",
       "</style>\n",
       "<table border=\"1\" class=\"dataframe\">\n",
       "  <thead>\n",
       "    <tr style=\"text-align: right;\">\n",
       "      <th></th>\n",
       "      <th>Entity</th>\n",
       "      <th>Code</th>\n",
       "      <th>Year</th>\n",
       "      <th>Total number of international immigrants</th>\n",
       "    </tr>\n",
       "  </thead>\n",
       "  <tbody>\n",
       "    <tr>\n",
       "      <th>0</th>\n",
       "      <td>Afghanistan</td>\n",
       "      <td>AFG</td>\n",
       "      <td>1990</td>\n",
       "      <td>57686</td>\n",
       "    </tr>\n",
       "    <tr>\n",
       "      <th>1</th>\n",
       "      <td>Afghanistan</td>\n",
       "      <td>AFG</td>\n",
       "      <td>1995</td>\n",
       "      <td>71522</td>\n",
       "    </tr>\n",
       "    <tr>\n",
       "      <th>2</th>\n",
       "      <td>Afghanistan</td>\n",
       "      <td>AFG</td>\n",
       "      <td>2000</td>\n",
       "      <td>75917</td>\n",
       "    </tr>\n",
       "    <tr>\n",
       "      <th>3</th>\n",
       "      <td>Afghanistan</td>\n",
       "      <td>AFG</td>\n",
       "      <td>2005</td>\n",
       "      <td>87314</td>\n",
       "    </tr>\n",
       "    <tr>\n",
       "      <th>4</th>\n",
       "      <td>Afghanistan</td>\n",
       "      <td>AFG</td>\n",
       "      <td>2010</td>\n",
       "      <td>102276</td>\n",
       "    </tr>\n",
       "    <tr>\n",
       "      <th>...</th>\n",
       "      <td>...</td>\n",
       "      <td>...</td>\n",
       "      <td>...</td>\n",
       "      <td>...</td>\n",
       "    </tr>\n",
       "    <tr>\n",
       "      <th>2171</th>\n",
       "      <td>Zimbabwe</td>\n",
       "      <td>ZWE</td>\n",
       "      <td>2005</td>\n",
       "      <td>402226</td>\n",
       "    </tr>\n",
       "    <tr>\n",
       "      <th>2172</th>\n",
       "      <td>Zimbabwe</td>\n",
       "      <td>ZWE</td>\n",
       "      <td>2010</td>\n",
       "      <td>398307</td>\n",
       "    </tr>\n",
       "    <tr>\n",
       "      <th>2173</th>\n",
       "      <td>Zimbabwe</td>\n",
       "      <td>ZWE</td>\n",
       "      <td>2015</td>\n",
       "      <td>400482</td>\n",
       "    </tr>\n",
       "    <tr>\n",
       "      <th>2174</th>\n",
       "      <td>Zimbabwe</td>\n",
       "      <td>ZWE</td>\n",
       "      <td>2020</td>\n",
       "      <td>416141</td>\n",
       "    </tr>\n",
       "    <tr>\n",
       "      <th>2175</th>\n",
       "      <td>Zimbabwe</td>\n",
       "      <td>ZWE</td>\n",
       "      <td>2024</td>\n",
       "      <td>429108</td>\n",
       "    </tr>\n",
       "  </tbody>\n",
       "</table>\n",
       "<p>2176 rows × 4 columns</p>\n",
       "</div>"
      ],
      "text/plain": [
       "           Entity Code  Year  Total number of international immigrants\n",
       "0     Afghanistan  AFG  1990                                     57686\n",
       "1     Afghanistan  AFG  1995                                     71522\n",
       "2     Afghanistan  AFG  2000                                     75917\n",
       "3     Afghanistan  AFG  2005                                     87314\n",
       "4     Afghanistan  AFG  2010                                    102276\n",
       "...           ...  ...   ...                                       ...\n",
       "2171     Zimbabwe  ZWE  2005                                    402226\n",
       "2172     Zimbabwe  ZWE  2010                                    398307\n",
       "2173     Zimbabwe  ZWE  2015                                    400482\n",
       "2174     Zimbabwe  ZWE  2020                                    416141\n",
       "2175     Zimbabwe  ZWE  2024                                    429108\n",
       "\n",
       "[2176 rows x 4 columns]"
      ]
     },
     "execution_count": 4,
     "metadata": {},
     "output_type": "execute_result"
    }
   ],
   "source": [
    "df"
   ]
  },
  {
   "cell_type": "code",
   "execution_count": 5,
   "id": "b5bb29c9",
   "metadata": {},
   "outputs": [],
   "source": [
    "countries = df['Entity'].unique()"
   ]
  },
  {
   "cell_type": "code",
   "execution_count": 41,
   "id": "bdb1d8af",
   "metadata": {},
   "outputs": [
    {
     "name": "stdout",
     "output_type": "stream",
     "text": [
      "Argentina\n",
      "Australia\n",
      "Austria\n",
      "Bangladesh\n",
      "Belgium\n",
      "Brazil\n",
      "Cambodia\n",
      "Canada\n",
      "Chile\n",
      "Colombia\n",
      "Costa Rica\n",
      "Denmark\n",
      "Egypt\n",
      "Estonia\n",
      "Ethiopia\n",
      "Finland\n",
      "France\n",
      "Ghana\n",
      "Greece\n",
      "Hungary\n",
      "Iceland\n",
      "India\n",
      "Indonesia\n",
      "Ireland\n",
      "Israel\n",
      "Italy\n",
      "Japan\n",
      "Kazakhstan\n",
      "Kenya\n",
      "Kuwait\n",
      "Latvia\n",
      "Liberia\n",
      "Lithuania\n",
      "Luxembourg\n",
      "Malaysia\n",
      "Mexico\n",
      "Mongolia\n",
      "Myanmar\n",
      "Nepal\n",
      "Netherlands\n",
      "New Zealand\n",
      "Nigeria\n",
      "Norway\n",
      "Oman\n",
      "Pakistan\n",
      "Paraguay\n",
      "Peru\n",
      "Philippines\n",
      "Poland\n",
      "Portugal\n",
      "Qatar\n",
      "Russia\n",
      "Singapore\n",
      "Slovenia\n",
      "South Africa\n",
      "Spain\n",
      "Sri Lanka\n",
      "Sweden\n",
      "Switzerland\n",
      "Tanzania\n",
      "Thailand\n",
      "Turkey\n",
      "Uganda\n",
      "United Kingdom\n",
      "United States\n",
      "Uruguay\n",
      "Uzbekistan\n",
      "Vietnam\n"
     ]
    }
   ],
   "source": [
    "csv_list = []\n",
    "for i in countries:\n",
    "    if i.upper() in country_list['국가명(영문, ICRM 기준)'].values:\n",
    "        # filtered_df = df[df['Entity'] == i]\n",
    "        # globals()[i] = filtered_df\n",
    "        # filtered_df.to_csv(f\"{i}.csv\", index=False)\n",
    "        csv_list.append(i.upper())\n",
    "        print(i)\n"
   ]
  },
  {
   "cell_type": "code",
   "execution_count": 7,
   "id": "621d8b38",
   "metadata": {},
   "outputs": [
    {
     "data": {
      "text/plain": [
       "array(['BANGLADESH', 'MYANMAR', 'CAMBODIA', 'SRI LANKA', 'CHINA P. R.',\n",
       "       'CHINA(TAIWAN)', 'CHINA P. R.(HONG KONG)', 'INDIA', 'INDONESIA',\n",
       "       'ISRAEL', 'JAPAN', 'KAZAKHSTAN', 'KYRGYZ REPUBLIC', 'KUWAIT',\n",
       "       'MALAYSIA', 'MONGOLIA', 'NEPAL', 'OMAN', 'PAKISTAN', 'PHILIPPINES',\n",
       "       'EAST-TIMOR', 'QATAR', 'SAUDI ARAVIA', 'SINGAPORE', 'THAILAND',\n",
       "       'TURKEY', 'U.A.E', 'UZBEKISTAN', 'VIETNAM', 'ARGENTINA', 'BRAZIL',\n",
       "       'CANADA', 'CHILE', 'COLOMBIA', 'COSTA RICA', 'MEXICO', 'PARAGUAY',\n",
       "       'PERU', 'URUGUAY', 'UNITED STATES', 'AUSTRIA', 'BELGIUM', 'CZECH',\n",
       "       'ESTONIA', 'DENMARK', 'UNITED KINGDOM', 'FINLAND', 'FRANCE',\n",
       "       'GERMANY F.R', 'GREECE', 'HUNGARY', 'ICELAND', 'IRELAND', 'ITALY',\n",
       "       'LATVIA', 'LUXEMBOURG', 'LITHUANIA', 'NETHERLANDS', 'NORWAY',\n",
       "       'POLAND', 'PORTUGAL', 'RUSSIA', 'SLOVAK', 'SLOVENIA', 'SPAIN',\n",
       "       'SWEDEN', 'SWITZERLAND', 'AUSTRALIA', 'NEW ZEALAND', 'EGYPT',\n",
       "       'ETHIOPIA', 'GHANA', 'KENYA', 'LIBERIA', 'NIGERIA', 'SOUTH AFRICA',\n",
       "       'TANZANIA', 'UGANDA'], dtype=object)"
      ]
     },
     "execution_count": 7,
     "metadata": {},
     "output_type": "execute_result"
    }
   ],
   "source": [
    "country_list['국가명(영문, ICRM 기준)'].values"
   ]
  },
  {
   "cell_type": "code",
   "execution_count": 15,
   "id": "9700d449",
   "metadata": {},
   "outputs": [
    {
     "name": "stdout",
     "output_type": "stream",
     "text": [
      "c:\\Users\\admin\\workspace\\new\n"
     ]
    }
   ],
   "source": [
    "print(os.getcwd())"
   ]
  },
  {
   "cell_type": "markdown",
   "id": "10c9b8d0",
   "metadata": {},
   "source": [
    "### csv로 만들어지지 않은 나라 찾기"
   ]
  },
  {
   "cell_type": "code",
   "execution_count": 42,
   "id": "edf3d600",
   "metadata": {},
   "outputs": [
    {
     "data": {
      "application/vnd.microsoft.datawrangler.viewer.v0+json": {
       "columns": [
        {
         "name": "연번",
         "rawType": "int64",
         "type": "integer"
        },
        {
         "name": "국가코드",
         "rawType": "int64",
         "type": "integer"
        },
        {
         "name": "국가명(영문, ICRM 기준)",
         "rawType": "object",
         "type": "string"
        },
        {
         "name": "국가명(한글)",
         "rawType": "object",
         "type": "string"
        },
        {
         "name": "이민청 조직 ",
         "rawType": "object",
         "type": "string"
        },
        {
         "name": "이민청 조직 홈페이지",
         "rawType": "object",
         "type": "string"
        },
        {
         "name": "상위부처 (Ministry 등)",
         "rawType": "object",
         "type": "string"
        },
        {
         "name": "구분",
         "rawType": "object",
         "type": "string"
        },
        {
         "name": "상위부처 홈페이지",
         "rawType": "object",
         "type": "string"
        }
       ],
       "conversionMethod": "pd.DataFrame",
       "ref": "f3b9bf51-ed90-44b8-a36d-3853b0526207",
       "rows": [
        [
         "5",
         "112",
         "CHINA P. R.",
         "중국",
         "National Immigration Administration ",
         "https://en.nia.gov.cn",
         "Ministry of Public Security ",
         "공안부",
         "https://www.mps.gov.cn"
        ],
        [
         "6",
         "113",
         "CHINA(TAIWAN)",
         "대만",
         "National Immigration Agency ",
         "https://www.immigration.gov.tw/7120",
         "Ministry of Interior",
         "내무부",
         "https://www.moi.gov.tw/english"
        ],
        [
         "7",
         "120",
         "CHINA P. R.(HONG KONG)",
         "홍콩",
         "Immigration Department ",
         "https://www.immd.gov.hk/eng/index.html",
         "Security Bureau ",
         "공안부",
         "https://www.sb.gov.hk/eng/about/welcome.html"
        ],
        [
         "13",
         "134",
         "KYRGYZ REPUBLIC",
         "키르기즈",
         "State Migration Service ",
         "https://mlsp.gov.kg/genderdik-sayasat-2/",
         "Minister of Labour, Social Security and Migration ",
         "노동안전이민부",
         "https://mlsp.gov.kg"
        ],
        [
         "21",
         "156",
         "EAST-TIMOR",
         "동티모르",
         "Immigration Service of Timor-Leste ",
         "https://www.migracao.gov.tl/index.php",
         "Ministry of Interior ",
         "내무부",
         "http://www.minterior.gov.tl"
        ],
        [
         "23",
         "162",
         "SAUDI ARAVIA",
         "사우디아라비아",
         "\t\t\t\t\t\t\tGeneral Directorate of Passports ",
         "https://www.moi.gov.sa/",
         "Ministry of Interior",
         "내무부",
         "https://www.moi.gov.sa/"
        ],
        [
         "27",
         "180",
         "U.A.E",
         "아랍에미리트연합",
         "\t\t\t\t\t\t\tFederal Authority for Identity, Citizenship, Customs & Port Security ",
         "https://icp.gov.ae/en/",
         "Ministry of Interior ",
         "내무부",
         "https://moi.gov.ae/en/​"
        ],
        [
         "43",
         "310",
         "CZECH",
         "체코",
         "Department for Asylum and Migration Policy ",
         "https://mv.gov.cz/mvcren/article/immigration.aspx​",
         "Ministry of the Interior ",
         "내무부",
         "https://ipc.gov.cz/en"
        ],
        [
         "49",
         "324",
         "GERMANY F.R",
         "독일",
         "Federal Office for Migration and Refugees ",
         "https://www.bamf.de/EN/Startseite/startseite_node.html",
         "Federal Ministry of Interior and Community ",
         "내무부",
         "https://www.bmi.bund.de/EN"
        ],
        [
         "63",
         "368",
         "SLOVAK",
         "슬로바키아",
         "Bureau of Border and Foreign Police of the Presidium of the Police Force ",
         "https://www.minv.sk/?migracny-urad-mv-sr",
         "Ministry of the Interior ",
         "내무부",
         "https://www.minv.sk"
        ]
       ],
       "shape": {
        "columns": 8,
        "rows": 10
       }
      },
      "text/html": [
       "<div>\n",
       "<style scoped>\n",
       "    .dataframe tbody tr th:only-of-type {\n",
       "        vertical-align: middle;\n",
       "    }\n",
       "\n",
       "    .dataframe tbody tr th {\n",
       "        vertical-align: top;\n",
       "    }\n",
       "\n",
       "    .dataframe thead th {\n",
       "        text-align: right;\n",
       "    }\n",
       "</style>\n",
       "<table border=\"1\" class=\"dataframe\">\n",
       "  <thead>\n",
       "    <tr style=\"text-align: right;\">\n",
       "      <th></th>\n",
       "      <th>국가코드</th>\n",
       "      <th>국가명(영문, ICRM 기준)</th>\n",
       "      <th>국가명(한글)</th>\n",
       "      <th>이민청 조직</th>\n",
       "      <th>이민청 조직 홈페이지</th>\n",
       "      <th>상위부처 (Ministry 등)</th>\n",
       "      <th>구분</th>\n",
       "      <th>상위부처 홈페이지</th>\n",
       "    </tr>\n",
       "    <tr>\n",
       "      <th>연번</th>\n",
       "      <th></th>\n",
       "      <th></th>\n",
       "      <th></th>\n",
       "      <th></th>\n",
       "      <th></th>\n",
       "      <th></th>\n",
       "      <th></th>\n",
       "      <th></th>\n",
       "    </tr>\n",
       "  </thead>\n",
       "  <tbody>\n",
       "    <tr>\n",
       "      <th>5</th>\n",
       "      <td>112</td>\n",
       "      <td>CHINA P. R.</td>\n",
       "      <td>중국</td>\n",
       "      <td>National Immigration Administration</td>\n",
       "      <td>https://en.nia.gov.cn</td>\n",
       "      <td>Ministry of Public Security</td>\n",
       "      <td>공안부</td>\n",
       "      <td>https://www.mps.gov.cn</td>\n",
       "    </tr>\n",
       "    <tr>\n",
       "      <th>6</th>\n",
       "      <td>113</td>\n",
       "      <td>CHINA(TAIWAN)</td>\n",
       "      <td>대만</td>\n",
       "      <td>National Immigration Agency</td>\n",
       "      <td>https://www.immigration.gov.tw/7120</td>\n",
       "      <td>Ministry of Interior</td>\n",
       "      <td>내무부</td>\n",
       "      <td>https://www.moi.gov.tw/english</td>\n",
       "    </tr>\n",
       "    <tr>\n",
       "      <th>7</th>\n",
       "      <td>120</td>\n",
       "      <td>CHINA P. R.(HONG KONG)</td>\n",
       "      <td>홍콩</td>\n",
       "      <td>Immigration Department</td>\n",
       "      <td>https://www.immd.gov.hk/eng/index.html</td>\n",
       "      <td>Security Bureau</td>\n",
       "      <td>공안부</td>\n",
       "      <td>https://www.sb.gov.hk/eng/about/welcome.html</td>\n",
       "    </tr>\n",
       "    <tr>\n",
       "      <th>13</th>\n",
       "      <td>134</td>\n",
       "      <td>KYRGYZ REPUBLIC</td>\n",
       "      <td>키르기즈</td>\n",
       "      <td>State Migration Service</td>\n",
       "      <td>https://mlsp.gov.kg/genderdik-sayasat-2/</td>\n",
       "      <td>Minister of Labour, Social Security and Migrat...</td>\n",
       "      <td>노동안전이민부</td>\n",
       "      <td>https://mlsp.gov.kg</td>\n",
       "    </tr>\n",
       "    <tr>\n",
       "      <th>21</th>\n",
       "      <td>156</td>\n",
       "      <td>EAST-TIMOR</td>\n",
       "      <td>동티모르</td>\n",
       "      <td>Immigration Service of Timor-Leste</td>\n",
       "      <td>https://www.migracao.gov.tl/index.php</td>\n",
       "      <td>Ministry of Interior</td>\n",
       "      <td>내무부</td>\n",
       "      <td>http://www.minterior.gov.tl</td>\n",
       "    </tr>\n",
       "    <tr>\n",
       "      <th>23</th>\n",
       "      <td>162</td>\n",
       "      <td>SAUDI ARAVIA</td>\n",
       "      <td>사우디아라비아</td>\n",
       "      <td>\\t\\t\\t\\t\\t\\t\\tGeneral Directorate of Passports</td>\n",
       "      <td>https://www.moi.gov.sa/</td>\n",
       "      <td>Ministry of Interior</td>\n",
       "      <td>내무부</td>\n",
       "      <td>https://www.moi.gov.sa/</td>\n",
       "    </tr>\n",
       "    <tr>\n",
       "      <th>27</th>\n",
       "      <td>180</td>\n",
       "      <td>U.A.E</td>\n",
       "      <td>아랍에미리트연합</td>\n",
       "      <td>\\t\\t\\t\\t\\t\\t\\tFederal Authority for Identity, ...</td>\n",
       "      <td>https://icp.gov.ae/en/</td>\n",
       "      <td>Ministry of Interior</td>\n",
       "      <td>내무부</td>\n",
       "      <td>https://moi.gov.ae/en/​</td>\n",
       "    </tr>\n",
       "    <tr>\n",
       "      <th>43</th>\n",
       "      <td>310</td>\n",
       "      <td>CZECH</td>\n",
       "      <td>체코</td>\n",
       "      <td>Department for Asylum and Migration Policy</td>\n",
       "      <td>https://mv.gov.cz/mvcren/article/immigration.a...</td>\n",
       "      <td>Ministry of the Interior</td>\n",
       "      <td>내무부</td>\n",
       "      <td>https://ipc.gov.cz/en</td>\n",
       "    </tr>\n",
       "    <tr>\n",
       "      <th>49</th>\n",
       "      <td>324</td>\n",
       "      <td>GERMANY F.R</td>\n",
       "      <td>독일</td>\n",
       "      <td>Federal Office for Migration and Refugees</td>\n",
       "      <td>https://www.bamf.de/EN/Startseite/startseite_n...</td>\n",
       "      <td>Federal Ministry of Interior and Community</td>\n",
       "      <td>내무부</td>\n",
       "      <td>https://www.bmi.bund.de/EN</td>\n",
       "    </tr>\n",
       "    <tr>\n",
       "      <th>63</th>\n",
       "      <td>368</td>\n",
       "      <td>SLOVAK</td>\n",
       "      <td>슬로바키아</td>\n",
       "      <td>Bureau of Border and Foreign Police of the Pre...</td>\n",
       "      <td>https://www.minv.sk/?migracny-urad-mv-sr</td>\n",
       "      <td>Ministry of the Interior</td>\n",
       "      <td>내무부</td>\n",
       "      <td>https://www.minv.sk</td>\n",
       "    </tr>\n",
       "  </tbody>\n",
       "</table>\n",
       "</div>"
      ],
      "text/plain": [
       "    국가코드        국가명(영문, ICRM 기준)   국가명(한글)  \\\n",
       "연번                                           \n",
       "5    112             CHINA P. R.        중국   \n",
       "6    113           CHINA(TAIWAN)        대만   \n",
       "7    120  CHINA P. R.(HONG KONG)        홍콩   \n",
       "13   134         KYRGYZ REPUBLIC      키르기즈   \n",
       "21   156              EAST-TIMOR      동티모르   \n",
       "23   162            SAUDI ARAVIA   사우디아라비아   \n",
       "27   180                   U.A.E  아랍에미리트연합   \n",
       "43   310                   CZECH        체코   \n",
       "49   324             GERMANY F.R        독일   \n",
       "63   368                  SLOVAK     슬로바키아   \n",
       "\n",
       "                                              이민청 조직   \\\n",
       "연번                                                      \n",
       "5                National Immigration Administration    \n",
       "6                        National Immigration Agency    \n",
       "7                             Immigration Department    \n",
       "13                           State Migration Service    \n",
       "21                Immigration Service of Timor-Leste    \n",
       "23    \\t\\t\\t\\t\\t\\t\\tGeneral Directorate of Passports    \n",
       "27  \\t\\t\\t\\t\\t\\t\\tFederal Authority for Identity, ...   \n",
       "43        Department for Asylum and Migration Policy    \n",
       "49         Federal Office for Migration and Refugees    \n",
       "63  Bureau of Border and Foreign Police of the Pre...   \n",
       "\n",
       "                                          이민청 조직 홈페이지  \\\n",
       "연번                                                      \n",
       "5                               https://en.nia.gov.cn   \n",
       "6                 https://www.immigration.gov.tw/7120   \n",
       "7              https://www.immd.gov.hk/eng/index.html   \n",
       "13           https://mlsp.gov.kg/genderdik-sayasat-2/   \n",
       "21              https://www.migracao.gov.tl/index.php   \n",
       "23                            https://www.moi.gov.sa/   \n",
       "27                             https://icp.gov.ae/en/   \n",
       "43  https://mv.gov.cz/mvcren/article/immigration.a...   \n",
       "49  https://www.bamf.de/EN/Startseite/startseite_n...   \n",
       "63           https://www.minv.sk/?migracny-urad-mv-sr   \n",
       "\n",
       "                                    상위부처 (Ministry 등)       구분  \\\n",
       "연번                                                               \n",
       "5                        Ministry of Public Security       공안부   \n",
       "6                                Ministry of Interior      내무부   \n",
       "7                                    Security Bureau       공안부   \n",
       "13  Minister of Labour, Social Security and Migrat...  노동안전이민부   \n",
       "21                              Ministry of Interior       내무부   \n",
       "23                               Ministry of Interior      내무부   \n",
       "27                              Ministry of Interior       내무부   \n",
       "43                          Ministry of the Interior       내무부   \n",
       "49        Federal Ministry of Interior and Community       내무부   \n",
       "63                          Ministry of the Interior       내무부   \n",
       "\n",
       "                                       상위부처 홈페이지  \n",
       "연번                                                \n",
       "5                         https://www.mps.gov.cn  \n",
       "6                 https://www.moi.gov.tw/english  \n",
       "7   https://www.sb.gov.hk/eng/about/welcome.html  \n",
       "13                           https://mlsp.gov.kg  \n",
       "21                   http://www.minterior.gov.tl  \n",
       "23                       https://www.moi.gov.sa/  \n",
       "27                       https://moi.gov.ae/en/​  \n",
       "43                         https://ipc.gov.cz/en  \n",
       "49                    https://www.bmi.bund.de/EN  \n",
       "63                           https://www.minv.sk  "
      ]
     },
     "execution_count": 42,
     "metadata": {},
     "output_type": "execute_result"
    }
   ],
   "source": [
    "country_list[~country_list['국가명(영문, ICRM 기준)'].isin(csv_list)]"
   ]
  },
  {
   "cell_type": "code",
   "execution_count": 83,
   "id": "fe861381",
   "metadata": {},
   "outputs": [
    {
     "data": {
      "application/vnd.microsoft.datawrangler.viewer.v0+json": {
       "columns": [
        {
         "name": "index",
         "rawType": "int64",
         "type": "integer"
        },
        {
         "name": "Entity",
         "rawType": "object",
         "type": "string"
        },
        {
         "name": "Code",
         "rawType": "object",
         "type": "string"
        },
        {
         "name": "Year",
         "rawType": "int64",
         "type": "integer"
        },
        {
         "name": "Total number of international immigrants",
         "rawType": "int64",
         "type": "integer"
        }
       ],
       "conversionMethod": "pd.DataFrame",
       "ref": "f93255e9-db2c-4805-98ae-9dc6affb9108",
       "rows": [
        [
         "384",
         "China",
         "CHN",
         "1990",
         "518395"
        ],
        [
         "385",
         "China",
         "CHN",
         "1995",
         "610608"
        ],
        [
         "386",
         "China",
         "CHN",
         "2000",
         "720915"
        ],
        [
         "387",
         "China",
         "CHN",
         "2005",
         "853360"
        ],
        [
         "388",
         "China",
         "CHN",
         "2010",
         "1010008"
        ],
        [
         "389",
         "China",
         "CHN",
         "2015",
         "1196007"
        ],
        [
         "390",
         "China",
         "CHN",
         "2020",
         "1415116"
        ],
        [
         "391",
         "China",
         "CHN",
         "2024",
         "1638718"
        ]
       ],
       "shape": {
        "columns": 4,
        "rows": 8
       }
      },
      "text/html": [
       "<div>\n",
       "<style scoped>\n",
       "    .dataframe tbody tr th:only-of-type {\n",
       "        vertical-align: middle;\n",
       "    }\n",
       "\n",
       "    .dataframe tbody tr th {\n",
       "        vertical-align: top;\n",
       "    }\n",
       "\n",
       "    .dataframe thead th {\n",
       "        text-align: right;\n",
       "    }\n",
       "</style>\n",
       "<table border=\"1\" class=\"dataframe\">\n",
       "  <thead>\n",
       "    <tr style=\"text-align: right;\">\n",
       "      <th></th>\n",
       "      <th>Entity</th>\n",
       "      <th>Code</th>\n",
       "      <th>Year</th>\n",
       "      <th>Total number of international immigrants</th>\n",
       "    </tr>\n",
       "  </thead>\n",
       "  <tbody>\n",
       "    <tr>\n",
       "      <th>384</th>\n",
       "      <td>China</td>\n",
       "      <td>CHN</td>\n",
       "      <td>1990</td>\n",
       "      <td>518395</td>\n",
       "    </tr>\n",
       "    <tr>\n",
       "      <th>385</th>\n",
       "      <td>China</td>\n",
       "      <td>CHN</td>\n",
       "      <td>1995</td>\n",
       "      <td>610608</td>\n",
       "    </tr>\n",
       "    <tr>\n",
       "      <th>386</th>\n",
       "      <td>China</td>\n",
       "      <td>CHN</td>\n",
       "      <td>2000</td>\n",
       "      <td>720915</td>\n",
       "    </tr>\n",
       "    <tr>\n",
       "      <th>387</th>\n",
       "      <td>China</td>\n",
       "      <td>CHN</td>\n",
       "      <td>2005</td>\n",
       "      <td>853360</td>\n",
       "    </tr>\n",
       "    <tr>\n",
       "      <th>388</th>\n",
       "      <td>China</td>\n",
       "      <td>CHN</td>\n",
       "      <td>2010</td>\n",
       "      <td>1010008</td>\n",
       "    </tr>\n",
       "    <tr>\n",
       "      <th>389</th>\n",
       "      <td>China</td>\n",
       "      <td>CHN</td>\n",
       "      <td>2015</td>\n",
       "      <td>1196007</td>\n",
       "    </tr>\n",
       "    <tr>\n",
       "      <th>390</th>\n",
       "      <td>China</td>\n",
       "      <td>CHN</td>\n",
       "      <td>2020</td>\n",
       "      <td>1415116</td>\n",
       "    </tr>\n",
       "    <tr>\n",
       "      <th>391</th>\n",
       "      <td>China</td>\n",
       "      <td>CHN</td>\n",
       "      <td>2024</td>\n",
       "      <td>1638718</td>\n",
       "    </tr>\n",
       "  </tbody>\n",
       "</table>\n",
       "</div>"
      ],
      "text/plain": [
       "    Entity Code  Year  Total number of international immigrants\n",
       "384  China  CHN  1990                                    518395\n",
       "385  China  CHN  1995                                    610608\n",
       "386  China  CHN  2000                                    720915\n",
       "387  China  CHN  2005                                    853360\n",
       "388  China  CHN  2010                                   1010008\n",
       "389  China  CHN  2015                                   1196007\n",
       "390  China  CHN  2020                                   1415116\n",
       "391  China  CHN  2024                                   1638718"
      ]
     },
     "execution_count": 83,
     "metadata": {},
     "output_type": "execute_result"
    }
   ],
   "source": [
    "df[df['Entity'].str.contains('China')]"
   ]
  },
  {
   "cell_type": "code",
   "execution_count": null,
   "id": "66db77ef",
   "metadata": {},
   "outputs": [],
   "source": []
  },
  {
   "cell_type": "code",
   "execution_count": 77,
   "id": "38dc8c39",
   "metadata": {},
   "outputs": [],
   "source": [
    "have_to_add = ['china', 'Taiwan', 'Hong Kong', 'Kyrgyzstan', 'East Timor', 'Saudi Arabia', 'United Arab Emirates', 'Czechia', 'Germany', 'Slovakia']"
   ]
  },
  {
   "cell_type": "code",
   "execution_count": 81,
   "id": "09670f10",
   "metadata": {},
   "outputs": [
    {
     "name": "stdout",
     "output_type": "stream",
     "text": [
      "Taiwan\n",
      "Hong Kong\n",
      "Kyrgyzstan\n",
      "East Timor\n",
      "Saudi Arabia\n",
      "United Arab Emirates\n",
      "Czechia\n",
      "Germany\n",
      "Slovakia\n"
     ]
    }
   ],
   "source": [
    "for i in have_to_add:\n",
    "    if i in df['Entity'].values:\n",
    "        filtered_df = df[df['Entity'] == i]\n",
    "        filtered_df.to_csv(f\"{i}.csv\", index=False)\n",
    "        print(i)"
   ]
  },
  {
   "cell_type": "code",
   "execution_count": 84,
   "id": "bb1ae87d",
   "metadata": {},
   "outputs": [],
   "source": [
    "df[df['Entity']=='China'].to_csv(\"China.csv\", index=False)"
   ]
  },
  {
   "cell_type": "markdown",
   "id": "7985e0ba",
   "metadata": {},
   "source": [
    "### Cnt로 열 이름 바꾸기"
   ]
  },
  {
   "cell_type": "code",
   "execution_count": 91,
   "id": "fee24d30",
   "metadata": {},
   "outputs": [
    {
     "data": {
      "text/plain": [
       "['Argentina.csv',\n",
       " 'Australia.csv',\n",
       " 'Austria.csv',\n",
       " 'Bangladesh.csv',\n",
       " 'Belgium.csv',\n",
       " 'Brazil.csv',\n",
       " 'Cambodia.csv',\n",
       " 'Canada.csv',\n",
       " 'Chile.csv',\n",
       " 'China.csv',\n",
       " 'Colombia.csv',\n",
       " 'Costa Rica.csv',\n",
       " 'Czechia.csv',\n",
       " 'Denmark.csv',\n",
       " 'East Timor.csv',\n",
       " 'Egypt.csv',\n",
       " 'Estonia.csv',\n",
       " 'Ethiopia.csv',\n",
       " 'Finland.csv',\n",
       " 'France.csv',\n",
       " 'Germany.csv',\n",
       " 'Ghana.csv',\n",
       " 'Greece.csv',\n",
       " 'Hong Kong.csv',\n",
       " 'Hungary.csv',\n",
       " 'Iceland.csv',\n",
       " 'India.csv',\n",
       " 'Indonesia.csv',\n",
       " 'Ireland.csv',\n",
       " 'Israel.csv',\n",
       " 'Italy.csv',\n",
       " 'Japan.csv',\n",
       " 'Kazakhstan.csv',\n",
       " 'Kenya.csv',\n",
       " 'Kuwait.csv',\n",
       " 'Kyrgyzstan.csv',\n",
       " 'Latvia.csv',\n",
       " 'Liberia.csv',\n",
       " 'Lithuania.csv',\n",
       " 'Luxembourg.csv',\n",
       " 'Malaysia.csv',\n",
       " 'Mexico.csv',\n",
       " 'Mongolia.csv',\n",
       " 'Myanmar.csv',\n",
       " 'Nepal.csv',\n",
       " 'Netherlands.csv',\n",
       " 'New Zealand.csv',\n",
       " 'Nigeria.csv',\n",
       " 'Norway.csv',\n",
       " 'Oman.csv',\n",
       " 'Pakistan.csv',\n",
       " 'Paraguay.csv',\n",
       " 'Peru.csv',\n",
       " 'Philippines.csv',\n",
       " 'Poland.csv',\n",
       " 'Portugal.csv',\n",
       " 'Qatar.csv',\n",
       " 'Russia.csv',\n",
       " 'Saudi Arabia.csv',\n",
       " 'Singapore.csv',\n",
       " 'Slovakia.csv',\n",
       " 'Slovenia.csv',\n",
       " 'South Africa.csv',\n",
       " 'Spain.csv',\n",
       " 'Sri Lanka.csv',\n",
       " 'Sweden.csv',\n",
       " 'Switzerland.csv',\n",
       " 'Taiwan.csv',\n",
       " 'Tanzania.csv',\n",
       " 'Thailand.csv',\n",
       " 'Turkey.csv',\n",
       " 'Uganda.csv',\n",
       " 'United Arab Emirates.csv',\n",
       " 'United Kingdom.csv',\n",
       " 'United States.csv',\n",
       " 'Uruguay.csv',\n",
       " 'Uzbekistan.csv',\n",
       " 'Vietnam.csv']"
      ]
     },
     "execution_count": 91,
     "metadata": {},
     "output_type": "execute_result"
    }
   ],
   "source": [
    "dir_path = \"C:/Users/admin/workspace/new/country\"\n",
    "dir_list = os.listdir(dir_path)\n",
    "dir_list"
   ]
  },
  {
   "cell_type": "code",
   "execution_count": null,
   "id": "d2ec1ea8",
   "metadata": {},
   "outputs": [],
   "source": [
    "for i in dir_list:\n",
    "    # 파일 경로와 이름 합쳐서 전체 경로 만들기\n",
    "    file_path = os.path.join(dir_path, i)\n",
    "    # 해당 경로에서 파일 읽어오기\n",
    "    df = pd.read_csv(file_path)\n",
    "    # rename으로 컬럼 이름 변경\n",
    "    df.rename(columns={'Total number of international immigrants': 'Cnt'}, inplace=True)\n",
    "    df.to_csv(file_path, index=False, encoding='utf-8')"
   ]
  }
 ],
 "metadata": {
  "kernelspec": {
   "display_name": "intern",
   "language": "python",
   "name": "python3"
  },
  "language_info": {
   "codemirror_mode": {
    "name": "ipython",
    "version": 3
   },
   "file_extension": ".py",
   "mimetype": "text/x-python",
   "name": "python",
   "nbconvert_exporter": "python",
   "pygments_lexer": "ipython3",
   "version": "3.12.7"
  }
 },
 "nbformat": 4,
 "nbformat_minor": 5
}
