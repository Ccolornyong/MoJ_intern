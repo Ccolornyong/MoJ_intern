{
 "cells": [
  {
   "cell_type": "markdown",
   "id": "0b9335f6",
   "metadata": {},
   "source": [
    "### Clustering Toy exeample"
   ]
  },
  {
   "cell_type": "code",
   "execution_count": null,
   "id": "5ac14678",
   "metadata": {
    "vscode": {
     "languageId": "plaintext"
    }
   },
   "outputs": [],
   "source": [
    "import numpy as np\n",
    "import matplolib.pyplot as plt\n",
    "import seaborn as sns\n",
    "import sklearn.datasets as data\n",
    "%matplolib inline\n",
    "sns.set_context('poster')\n",
    "sns.set_style('white')\n",
    "sns.set_color_codes()\n",
    "plot_kwds= {'alpha':0.5, 's':80, plt.rcParams[\"figure.figsize\"] = [9,7]}\n",
    "import hdbscan"
   ]
  }
 ],
 "metadata": {
  "language_info": {
   "name": "python"
  }
 },
 "nbformat": 4,
 "nbformat_minor": 5
}
